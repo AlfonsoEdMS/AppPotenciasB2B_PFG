{
 "cells": [
  {
   "cell_type": "code",
   "execution_count": 2,
   "metadata": {},
   "outputs": [],
   "source": [
    "from parametros import tbl_excPot_med123,  tbl_excPot_med4y5, tbl_coeficiente_Kp, tbl_termPrecPot\n",
    "import numpy as np"
   ]
  },
  {
   "cell_type": "code",
   "execution_count": 8,
   "metadata": {},
   "outputs": [],
   "source": [
    "#Valores Iniciales\n",
    "potC = [2, 2, 3, 4, 4, 5]\n",
    "tarifa = '6_3TD'\n",
    "tipo_punto = 4"
   ]
  },
  {
   "cell_type": "code",
   "execution_count": null,
   "metadata": {},
   "outputs": [],
   "source": [
    "#Dividir la factura en Meses\n",
    "#Buscar los meses sobre los que tenemos información / Ej: '2020-11$\n",
    "def monthly_bill(df_data):\n",
    "    list_months = df_data.Fecha.unique()\n",
    "    list_uniq_months = [x[:-3] for x in list_months]\n",
    "    set_unique_dates = set(list_uniq_months)\n",
    "    list_unique_dates = list(set_unique_dates)\n",
    "\n",
    "    return list_unique_dates.sort()\n",
    "\n",
    "\n",
    "#IMP: list_unique_dates"
   ]
  },
  {
   "cell_type": "code",
   "execution_count": 4,
   "metadata": {},
   "outputs": [
    {
     "data": {
      "text/plain": [
       "0.07458"
      ]
     },
     "execution_count": 4,
     "metadata": {},
     "output_type": "execute_result"
    }
   ],
   "source": [
    "def precio_exceso_potencia(tarifa, tipo_punto):\n",
    "    if np.any(tipo_punto <= 3):\n",
    "        price = tbl_excPot_med123[tbl_excPot_med123['Tarifa'] == tarifa]['Precio_exceso_potencia_(€/kW*día)'].item()\n",
    "    else:\n",
    "        price = tbl_excPot_med4y5[tbl_excPot_med4y5['Tarifa'] == tarifa]['Precio_exceso_potencia_(€/kW*día)'].item()\n",
    "    return price\n",
    "\n",
    "precio_exceso_potencia(tarifa, tipo_punto)"
   ]
  },
  {
   "cell_type": "code",
   "execution_count": 7,
   "metadata": {},
   "outputs": [
    {
     "data": {
      "text/plain": [
       "0.553151"
      ]
     },
     "execution_count": 7,
     "metadata": {},
     "output_type": "execute_result"
    }
   ],
   "source": [
    "def precio_coeficiente_Kp(tarifa, period):\n",
    "    return tbl_coeficiente_Kp[tbl_coeficiente_Kp['Tarifa'] == tarifa][period].item()\n",
    "\n",
    "precio_coeficiente_Kp(tarifa, 'P3')"
   ]
  },
  {
   "cell_type": "code",
   "execution_count": 9,
   "metadata": {},
   "outputs": [
    {
     "data": {
      "text/plain": [
       "75.42"
      ]
     },
     "execution_count": 9,
     "metadata": {},
     "output_type": "execute_result"
    }
   ],
   "source": [
    "def facturacion_potencia(potC, tarifa):\n",
    "    precio_potencia = []\n",
    "    for i, number in enumerate(potC):\n",
    "        string_comp = 'Periodo ' + str(i+1)\n",
    "        item = tbl_termPrecPot[tbl_termPrecPot['Tarifa'] == tarifa][string_comp]\n",
    "        result = number * item.item()\n",
    "        precio_potencia.append(result)\n",
    "        \n",
    "    return round(sum(precio_potencia), 2)\n",
    "\n",
    "facturacion_potencia(potC, tarifa)\n",
    "\n",
    "#def facturacion_potencia_2(potC, tarifa):\n",
    "#    precio_potencia = []\n",
    "#    for i, number in enumerate(potC):\n",
    "#        string_comp = 'Periodo ' + str(i+1)\n",
    "#        item = tbl_termPrecPot[tbl_termPrecPot['Tarifa'] == tarifa][string_comp]\n",
    "#        result = number * item.item()\n",
    "#        precio_potencia.append(result)\n",
    "#    \n",
    "#    precio_fijo_potencia = round(sum(precio_potencia), 2)\n",
    "#    df_ini_prefijpot = pd.Series(precio_fijo_potencia).repeat(len(list_unique_dates)).set_axis(list_unique_dates)\n",
    "#\n",
    "#    return df_ini_prefijpot"
   ]
  },
  {
   "cell_type": "code",
   "execution_count": null,
   "metadata": {},
   "outputs": [],
   "source": [
    "def facturacion_EP(potC, tarifa, tipo_punto):\n",
    "\n",
    "    termino_exceso_potencia = precio_exceso_potencia(tarifa, tipo_punto)\n",
    "    periodos = ['P1', 'P2', 'P3', 'P4', 'P5', 'P6']\n",
    "    mesuario = {}\n",
    "\n",
    "    if tipo_punto == 1 or 2 or 3:\n",
    "\n",
    "        df_exceso_euro_mes = pd.DataFrame()\n",
    "\n",
    "        for date in list_unique_dates:\n",
    "            new_df = cups_n1[cups_n1[\"Fecha\"].str.startswith(date)]\n",
    "            new_df.reset_index(drop=True, inplace=True)\n",
    "            list_exceso = []\n",
    "            list_SinExceso = []\n",
    "\n",
    "            for i, Pdj in enumerate(new_df.ActivaEntrante):\n",
    "            \n",
    "                num_PX = int(new_df.periodo[i][1:])\n",
    "                Pcp = potC[(num_PX-1)]\n",
    "\n",
    "                if Pdj > Pcp:\n",
    "                    result_4y5 = 2 * (Pdj - Pcp) * termino_exceso_potencia\n",
    "                elif Pdj < Pcp or Pdj == Pcp:\n",
    "                    result_4y5 = 0\n",
    "\n",
    "                list_exceso.append(result_4y5)\n",
    "\n",
    "            df_exceso_euro_mes[date] = pd.Series(list_exceso)\n",
    "\n",
    "        df_exceso_euro_mes = df_exceso_euro_mes.fillna(0)\n",
    "        precio_mes = round(df_exceso_euro_mes.sum(axis='index'), 2)\n",
    "\n",
    "        return precio_mes\n",
    "\n",
    "    elif tipo_punto == 4 or 5:\n",
    "\n",
    "        for date in list_unique_dates:\n",
    "            list_mes = []\n",
    "\n",
    "            for period in periodos:\n",
    "                new_df = cups_n1[(cups_n1[\"Fecha\"].str.startswith(date)) & (cups_n1['periodo'] == period)]\n",
    "                new_df.reset_index(drop=True, inplace=True)\n",
    "                list_exceso = []\n",
    "\n",
    "                for i, Pdj in enumerate(new_df.ActivaEntrante):\n",
    "                \n",
    "                    num_PX = int(period[1:])\n",
    "                    Pcp = potC[(num_PX-1)]\n",
    "\n",
    "                    if Pdj > Pcp:\n",
    "                        result_123 = (Pdj - Pcp) ** 2\n",
    "                    elif Pdj < Pcp or Pdj == Pcp:\n",
    "                        result_123 = 0\n",
    "\n",
    "                    #list_SinExceso.append(result_123)\n",
    "                    list_exceso.append(result_123)\n",
    "\n",
    "                sumatorio_1 = sum(list_exceso)\n",
    "                #1Formula\n",
    "                fep = precio_coeficiente_Kp(tarifa, period) * termino_exceso_potencia * math.sqrt(sumatorio_1)\n",
    "                list_mes.append(fep)\n",
    "\n",
    "            mesuario[date] = round(int(sum(list_mes)), 2)\n",
    "            \n",
    "        return mesuario"
   ]
  },
  {
   "cell_type": "markdown",
   "metadata": {},
   "source": [
    "Función Objetivo"
   ]
  },
  {
   "cell_type": "code",
   "execution_count": null,
   "metadata": {},
   "outputs": [],
   "source": [
    "#1) Primera opción \n",
    "from scipy.optimize import minimize, rosen, rosen_der\n",
    "#2)  Segunda Opción [GEKKO SOLUTION]\n",
    "from gekko import GEKKO    \n",
    "#3) Tercera Opción [Dual annealing global optimization for the ackley multimodal objective function]\n",
    "from scipy.optimize import dual_annealing"
   ]
  },
  {
   "cell_type": "markdown",
   "metadata": {},
   "source": [
    "Scipy Minimize"
   ]
  },
  {
   "cell_type": "code",
   "execution_count": null,
   "metadata": {},
   "outputs": [],
   "source": [
    "def constraint1_ineq(x): \n",
    "    return x[1] - x[0] \n",
    "\n",
    "def constraint2_ineq(x): \n",
    "    return x[2] - x[1] \n",
    "\n",
    "def constraint3_ineq(x): \n",
    "    return x[3] - x[2] \n",
    "\n",
    "def constraint4_ineq(x): \n",
    "    return x[4] - x[3] \n",
    "\n",
    "def constraint5_ineq(x): \n",
    "    return x[5] - x[4] \n",
    "\n",
    "def constraint6_ineq(x): \n",
    "    return fop - objective(x)\n",
    "\n",
    "# initial guesses\n",
    "n = 6\n",
    "potC = np.zeros(n)\n",
    "potC[0] = 8\n",
    "potC[1] = 10\n",
    "potC[2] = 13\n",
    "potC[3] = 14\n",
    "potC[4] = 15\n",
    "potC[5] = 15\n",
    "\n",
    "# show initial objective\n",
    "print('Initial Objective: ' + str(objective(potC)))\n",
    "\n",
    "# optimize\n",
    "b = (0.0, 500) \n",
    "bnds = (b, b, b, b, b, b)\n",
    "con6_ineq = {'type': 'ineq', 'fun': constraint6_ineq}\n",
    "con5_ineq = {'type': 'ineq', 'fun': constraint5_ineq}\n",
    "con4_ineq = {'type': 'ineq', 'fun': constraint4_ineq}\n",
    "con3_ineq = {'type': 'ineq', 'fun': constraint3_ineq}\n",
    "con2_ineq = {'type': 'ineq', 'fun': constraint2_ineq}\n",
    "con1_ineq = {'type': 'ineq', 'fun': constraint1_ineq}\n",
    "\n",
    "cons = ([con1_ineq, con2_ineq, con3_ineq, con4_ineq, con5_ineq, con6_ineq])\n",
    "solution = minimize(objective, potC, args= (), method='SLSQP',\\\n",
    "                    bounds=bnds, constraints=cons)\n",
    "x = solution.x\n",
    "\n",
    "# show final objective\n",
    "print('Final Objective: ' + str(objective(x, tarifa, tipo_punto)))\n",
    "\n",
    "print('Solution')\n",
    "print('x1 = ' + str(x[0]))\n",
    "print('x2 = ' + str(x[1]))\n",
    "print('x3 = ' + str(x[2]))\n",
    "print('x4 = ' + str(x[3]))\n",
    "print('x5 = ' + str(x[4]))\n",
    "print('x6 = ' + str(x[5]))"
   ]
  },
  {
   "cell_type": "markdown",
   "metadata": {},
   "source": [
    "Gekko"
   ]
  },
  {
   "cell_type": "code",
   "execution_count": null,
   "metadata": {},
   "outputs": [],
   "source": [
    "m = GEKKO()\n",
    "x = m.Array(m.Var,4,value=1,lb=1,ub=5)\n",
    "x1,x2,x3,x4 = x\n",
    "# change initial values\n",
    "x2.value = 5; x3.value = 5\n",
    "m.Equation(x1*x2*x3*x4>=25)\n",
    "m.Equation(x1**2+x2**2+x3**2+x4**2==40)\n",
    "m.Minimize(x1*x4*(x1+x2+x3)+x3)\n",
    "m.solve()\n",
    "print('x: ', x)\n",
    "print('Objective: ',m.options.OBJFCNVAL)"
   ]
  },
  {
   "cell_type": "markdown",
   "metadata": {},
   "source": [
    "Scipy Dual Anneling"
   ]
  },
  {
   "cell_type": "code",
   "execution_count": null,
   "metadata": {},
   "outputs": [],
   "source": [
    "# objective function\n",
    "\n",
    "def objective(v):\n",
    "    x, y = v\n",
    "    return '''formula'''\n",
    "\n",
    "# define range for input\n",
    "r_min, r_max = -5.0, 5.0\n",
    "\n",
    "# define the bounds on the search\n",
    "bounds = [[r_min, r_max], [r_min, r_max]]\n",
    "\n",
    "# perform the dual annealing search\n",
    "result = dual_annealing(objective, bounds)\n",
    "\n",
    "# summarize the result\n",
    "print('Status : %s' % result['message'])\n",
    "print('Total Evaluations: %d' % result['nfev'])\n",
    "\n",
    "# evaluate solution\n",
    "solution = result['x']\n",
    "evaluation = objective(solution)\n",
    "print('Solution: f(%s) = %.5f' % (solution, evaluation))"
   ]
  }
 ],
 "metadata": {
  "kernelspec": {
   "display_name": "Python 3.7.4 64-bit",
   "language": "python",
   "name": "python3"
  },
  "language_info": {
   "codemirror_mode": {
    "name": "ipython",
    "version": 3
   },
   "file_extension": ".py",
   "mimetype": "text/x-python",
   "name": "python",
   "nbconvert_exporter": "python",
   "pygments_lexer": "ipython3",
   "version": "3.7.4"
  },
  "orig_nbformat": 4,
  "vscode": {
   "interpreter": {
    "hash": "98f313b375bd142157bd85247f9cae0a692e725b9cc4cd8be55ca840b47a019b"
   }
  }
 },
 "nbformat": 4,
 "nbformat_minor": 2
}
