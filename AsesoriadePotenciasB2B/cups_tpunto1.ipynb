{
 "cells": [
  {
   "cell_type": "markdown",
   "metadata": {},
   "source": [
    "Lectura y preparacion de Datos."
   ]
  },
  {
   "cell_type": "code",
   "execution_count": 1,
   "metadata": {},
   "outputs": [],
   "source": [
    "#Libraries\n",
    "import math\n",
    "from datetime import date, datetime\n",
    "from itertools import repeat\n",
    "import numpy as np\n",
    "import pandas as pd\n",
    "from tabulate import tabulate\n",
    "#Intern Requirements\n",
    "from parametros import *"
   ]
  },
  {
   "cell_type": "markdown",
   "metadata": {},
   "source": [
    "Comenzamos!"
   ]
  },
  {
   "cell_type": "code",
   "execution_count": 3,
   "metadata": {},
   "outputs": [
    {
     "data": {
      "text/html": [
       "<div>\n",
       "<style scoped>\n",
       "    .dataframe tbody tr th:only-of-type {\n",
       "        vertical-align: middle;\n",
       "    }\n",
       "\n",
       "    .dataframe tbody tr th {\n",
       "        vertical-align: top;\n",
       "    }\n",
       "\n",
       "    .dataframe thead th {\n",
       "        text-align: right;\n",
       "    }\n",
       "</style>\n",
       "<table border=\"1\" class=\"dataframe\">\n",
       "  <thead>\n",
       "    <tr style=\"text-align: right;\">\n",
       "      <th></th>\n",
       "      <th>CUPS</th>\n",
       "      <th>FechaMedida</th>\n",
       "      <th>EPOCA</th>\n",
       "      <th>ActivaEntrante</th>\n",
       "      <th>ActivaSaliente</th>\n",
       "      <th>ReactivaQ1</th>\n",
       "      <th>ReactivaQ2</th>\n",
       "      <th>ReactivaQ3</th>\n",
       "      <th>ReactivaQ4</th>\n",
       "    </tr>\n",
       "  </thead>\n",
       "  <tbody>\n",
       "    <tr>\n",
       "      <th>0</th>\n",
       "      <td>ES0031300839367001RL</td>\n",
       "      <td>2021-10-22 00:15:00</td>\n",
       "      <td>1</td>\n",
       "      <td>54</td>\n",
       "      <td>0</td>\n",
       "      <td>5</td>\n",
       "      <td>0</td>\n",
       "      <td>0</td>\n",
       "      <td>1</td>\n",
       "    </tr>\n",
       "    <tr>\n",
       "      <th>1</th>\n",
       "      <td>ES0031300839367001RL</td>\n",
       "      <td>2021-10-22 00:30:00</td>\n",
       "      <td>1</td>\n",
       "      <td>48</td>\n",
       "      <td>0</td>\n",
       "      <td>4</td>\n",
       "      <td>0</td>\n",
       "      <td>0</td>\n",
       "      <td>0</td>\n",
       "    </tr>\n",
       "    <tr>\n",
       "      <th>2</th>\n",
       "      <td>ES0031300839367001RL</td>\n",
       "      <td>2021-10-22 00:45:00</td>\n",
       "      <td>1</td>\n",
       "      <td>50</td>\n",
       "      <td>0</td>\n",
       "      <td>8</td>\n",
       "      <td>0</td>\n",
       "      <td>0</td>\n",
       "      <td>0</td>\n",
       "    </tr>\n",
       "    <tr>\n",
       "      <th>3</th>\n",
       "      <td>ES0031300839367001RL</td>\n",
       "      <td>2021-10-22 01:00:00</td>\n",
       "      <td>1</td>\n",
       "      <td>42</td>\n",
       "      <td>0</td>\n",
       "      <td>2</td>\n",
       "      <td>0</td>\n",
       "      <td>0</td>\n",
       "      <td>0</td>\n",
       "    </tr>\n",
       "    <tr>\n",
       "      <th>4</th>\n",
       "      <td>ES0031300839367001RL</td>\n",
       "      <td>2021-10-22 01:15:00</td>\n",
       "      <td>1</td>\n",
       "      <td>57</td>\n",
       "      <td>0</td>\n",
       "      <td>7</td>\n",
       "      <td>0</td>\n",
       "      <td>0</td>\n",
       "      <td>0</td>\n",
       "    </tr>\n",
       "  </tbody>\n",
       "</table>\n",
       "</div>"
      ],
      "text/plain": [
       "                   CUPS         FechaMedida  EPOCA  ActivaEntrante  \\\n",
       "0  ES0031300839367001RL 2021-10-22 00:15:00      1              54   \n",
       "1  ES0031300839367001RL 2021-10-22 00:30:00      1              48   \n",
       "2  ES0031300839367001RL 2021-10-22 00:45:00      1              50   \n",
       "3  ES0031300839367001RL 2021-10-22 01:00:00      1              42   \n",
       "4  ES0031300839367001RL 2021-10-22 01:15:00      1              57   \n",
       "\n",
       "   ActivaSaliente  ReactivaQ1  ReactivaQ2  ReactivaQ3  ReactivaQ4  \n",
       "0               0           5           0           0           1  \n",
       "1               0           4           0           0           0  \n",
       "2               0           8           0           0           0  \n",
       "3               0           2           0           0           0  \n",
       "4               0           7           0           0           0  "
      ]
     },
     "execution_count": 3,
     "metadata": {},
     "output_type": "execute_result"
    }
   ],
   "source": [
    "dfcups = pd.read_excel(\"exceles/CurvaCuartoHoraria_VariosContratos.xlsx\")\n",
    "dfcups.head()"
   ]
  },
  {
   "cell_type": "code",
   "execution_count": 4,
   "metadata": {},
   "outputs": [
    {
     "name": "stdout",
     "output_type": "stream",
     "text": [
      "Tenemos 8 CUPS distintos:\n",
      "\n",
      "ES0031405509076001WC    37056\n",
      "ES0031405835487001AB    37056\n",
      "ES0031405933271001TV    37056\n",
      "ES0031406126350001SC    37056\n",
      "ES0031406126362001PZ    37056\n",
      "ES0031446444218001WB    37056\n",
      "ES0031406134794001CF     9988\n",
      "ES0031300839367001RL     2980\n",
      "Name: CUPS, dtype: int64\n"
     ]
    }
   ],
   "source": [
    "print('Tenemos ' + str(dfcups['CUPS'].nunique()) + ' CUPS distintos:')\n",
    "print()\n",
    "print(dfcups['CUPS'].value_counts())\n",
    "\n",
    "lista_cups = list(dfcups['CUPS'].unique())"
   ]
  },
  {
   "cell_type": "markdown",
   "metadata": {},
   "source": [
    "Mask 1"
   ]
  },
  {
   "cell_type": "code",
   "execution_count": 5,
   "metadata": {},
   "outputs": [
    {
     "name": "stdout",
     "output_type": "stream",
     "text": [
      "CUPS:ES0031406126350001SC\n",
      "Nº Registros: 37056\n"
     ]
    },
    {
     "data": {
      "text/html": [
       "<div>\n",
       "<style scoped>\n",
       "    .dataframe tbody tr th:only-of-type {\n",
       "        vertical-align: middle;\n",
       "    }\n",
       "\n",
       "    .dataframe tbody tr th {\n",
       "        vertical-align: top;\n",
       "    }\n",
       "\n",
       "    .dataframe thead th {\n",
       "        text-align: right;\n",
       "    }\n",
       "</style>\n",
       "<table border=\"1\" class=\"dataframe\">\n",
       "  <thead>\n",
       "    <tr style=\"text-align: right;\">\n",
       "      <th></th>\n",
       "      <th>CUPS</th>\n",
       "      <th>FechaMedida</th>\n",
       "      <th>EPOCA</th>\n",
       "      <th>ActivaEntrante</th>\n",
       "      <th>ActivaSaliente</th>\n",
       "      <th>ReactivaQ1</th>\n",
       "      <th>ReactivaQ2</th>\n",
       "      <th>ReactivaQ3</th>\n",
       "      <th>ReactivaQ4</th>\n",
       "    </tr>\n",
       "  </thead>\n",
       "  <tbody>\n",
       "    <tr>\n",
       "      <th>0</th>\n",
       "      <td>ES0031406126350001SC</td>\n",
       "      <td>2020-11-01 00:15:00</td>\n",
       "      <td>0</td>\n",
       "      <td>11</td>\n",
       "      <td>0</td>\n",
       "      <td>1</td>\n",
       "      <td>0</td>\n",
       "      <td>0</td>\n",
       "      <td>1</td>\n",
       "    </tr>\n",
       "    <tr>\n",
       "      <th>1</th>\n",
       "      <td>ES0031406126350001SC</td>\n",
       "      <td>2020-11-01 00:30:00</td>\n",
       "      <td>0</td>\n",
       "      <td>12</td>\n",
       "      <td>0</td>\n",
       "      <td>0</td>\n",
       "      <td>0</td>\n",
       "      <td>0</td>\n",
       "      <td>0</td>\n",
       "    </tr>\n",
       "    <tr>\n",
       "      <th>2</th>\n",
       "      <td>ES0031406126350001SC</td>\n",
       "      <td>2020-11-01 00:45:00</td>\n",
       "      <td>0</td>\n",
       "      <td>10</td>\n",
       "      <td>0</td>\n",
       "      <td>1</td>\n",
       "      <td>0</td>\n",
       "      <td>0</td>\n",
       "      <td>1</td>\n",
       "    </tr>\n",
       "    <tr>\n",
       "      <th>3</th>\n",
       "      <td>ES0031406126350001SC</td>\n",
       "      <td>2020-11-01 01:00:00</td>\n",
       "      <td>0</td>\n",
       "      <td>8</td>\n",
       "      <td>0</td>\n",
       "      <td>1</td>\n",
       "      <td>0</td>\n",
       "      <td>0</td>\n",
       "      <td>0</td>\n",
       "    </tr>\n",
       "    <tr>\n",
       "      <th>4</th>\n",
       "      <td>ES0031406126350001SC</td>\n",
       "      <td>2020-11-01 01:15:00</td>\n",
       "      <td>0</td>\n",
       "      <td>6</td>\n",
       "      <td>0</td>\n",
       "      <td>0</td>\n",
       "      <td>0</td>\n",
       "      <td>0</td>\n",
       "      <td>1</td>\n",
       "    </tr>\n",
       "  </tbody>\n",
       "</table>\n",
       "</div>"
      ],
      "text/plain": [
       "                   CUPS         FechaMedida  EPOCA  ActivaEntrante  \\\n",
       "0  ES0031406126350001SC 2020-11-01 00:15:00      0              11   \n",
       "1  ES0031406126350001SC 2020-11-01 00:30:00      0              12   \n",
       "2  ES0031406126350001SC 2020-11-01 00:45:00      0              10   \n",
       "3  ES0031406126350001SC 2020-11-01 01:00:00      0               8   \n",
       "4  ES0031406126350001SC 2020-11-01 01:15:00      0               6   \n",
       "\n",
       "   ActivaSaliente  ReactivaQ1  ReactivaQ2  ReactivaQ3  ReactivaQ4  \n",
       "0               0           1           0           0           1  \n",
       "1               0           0           0           0           0  \n",
       "2               0           1           0           0           1  \n",
       "3               0           1           0           0           0  \n",
       "4               0           0           0           0           1  "
      ]
     },
     "execution_count": 5,
     "metadata": {},
     "output_type": "execute_result"
    }
   ],
   "source": [
    "mask1 = dfcups['CUPS'].str.contains(lista_cups[-4])\n",
    "cups_n1 = dfcups[mask1]\n",
    "cups_n1 = cups_n1.reset_index(drop = True)\n",
    "print('CUPS:' + str(lista_cups[-4]))\n",
    "print('Nº Registros: ' + str(len(cups_n1.index)))\n",
    "cups_n1.head(5)"
   ]
  },
  {
   "cell_type": "code",
   "execution_count": 6,
   "metadata": {},
   "outputs": [
    {
     "data": {
      "text/plain": [
       "43"
      ]
     },
     "execution_count": 6,
     "metadata": {},
     "output_type": "execute_result"
    }
   ],
   "source": [
    "cups_n1.ActivaEntrante.max()"
   ]
  },
  {
   "cell_type": "markdown",
   "metadata": {},
   "source": [
    "Transformación"
   ]
  },
  {
   "cell_type": "code",
   "execution_count": 7,
   "metadata": {},
   "outputs": [
    {
     "data": {
      "text/plain": [
       "CUPS              object\n",
       "EPOCA              int64\n",
       "ActivaEntrante     int64\n",
       "ActivaSaliente     int64\n",
       "ReactivaQ1         int64\n",
       "ReactivaQ2         int64\n",
       "ReactivaQ3         int64\n",
       "ReactivaQ4         int64\n",
       "Fecha             string\n",
       "Hora              string\n",
       "Mes               string\n",
       "Dia               string\n",
       "dtype: object"
      ]
     },
     "execution_count": 7,
     "metadata": {},
     "output_type": "execute_result"
    }
   ],
   "source": [
    "#Try using .loc[row_indexer,col_indexer] = value instead\n",
    "cups_n1['Fecha'] = pd.to_datetime(cups_n1['FechaMedida']).dt.date\n",
    "cups_n1['Hora'] = pd.to_datetime(cups_n1['FechaMedida']).dt.time\n",
    "cups_n1['Mes'] = pd.to_datetime(cups_n1['FechaMedida']).dt.month_name(locale= 'ES')\n",
    "cups_n1['Dia'] = pd.to_datetime(cups_n1['FechaMedida']).dt.day_name(locale= 'ES')\n",
    "\n",
    "cups_n1.drop(['FechaMedida'], axis = 1, inplace = True) \n",
    "\n",
    "cups_n1['Fecha'] = cups_n1['Fecha'].astype('string') \n",
    "cups_n1['Hora'] = cups_n1['Hora'].astype('string') \n",
    "cups_n1['Mes'] = cups_n1['Mes'].astype('string') \n",
    "cups_n1['Dia'] = cups_n1['Dia'].astype('string') \n",
    "#cups_n1.head(5)\n",
    "\n",
    "cups_n1.dtypes"
   ]
  },
  {
   "cell_type": "markdown",
   "metadata": {},
   "source": [
    "P1,P2,P3,P4,P5,P6"
   ]
  },
  {
   "cell_type": "code",
   "execution_count": 8,
   "metadata": {},
   "outputs": [],
   "source": [
    "periodo = []\n",
    "\n",
    "#Apaño momentaneo, no soy capaz de trabajar con Objects /Solucionado -> .item()\n",
    "for registro in range(len(cups_n1.index)):\n",
    "    mascara1 = str(cups_n1['Mes'][registro])\n",
    "    mascara2 = str(cups_n1['Hora'][registro]) #[1:]\n",
    "    result = tabla_periodos[tabla_periodos['Mes'] == mascara1][mascara2].item()\n",
    "    periodo.append(result)\n",
    "\n",
    "cups_n1['Periodo'] = periodo"
   ]
  },
  {
   "cell_type": "markdown",
   "metadata": {},
   "source": [
    "Festivos Nacionales"
   ]
  },
  {
   "cell_type": "code",
   "execution_count": 9,
   "metadata": {},
   "outputs": [
    {
     "name": "stdout",
     "output_type": "stream",
     "text": [
      "['2019-01-01', '2019-04-19', '2019-05-01', '2019-08-15', '2019-10-12', '2019-11-01', '2019-12-06', '2019-12-25', '2020-01-01', '2020-01-06', '2020-04-10', '2020-01-01', '2020-05-01', '2020-08-15', '2020-10-12', '2020-12-08', '2020-12-25', '2021-01-01', '2021-01-06', '2021-04-02', '2021-05-01', '2021-10-12', '2021-11-01', '2021-12-06', '2021-12-08', '2021-12-25', '2022-01-01', '2022-01-06', '2022-04-15', '2022-08-15', '2022-10-12', '2022-11-01', '2022-12-06', '2022-12-08']\n"
     ]
    }
   ],
   "source": [
    "festivos = []\n",
    "\n",
    "for fecha in festivos_nacionales:\n",
    "    #prueba = festivos_nacionales[1]\n",
    "    solucion = datetime.strptime(fecha, '%d/%m/%Y').strftime('%Y-%m-%d')\n",
    "    festivos.append(solucion)\n",
    "\n",
    "print(festivos)"
   ]
  },
  {
   "cell_type": "markdown",
   "metadata": {},
   "source": [
    "Aplicamos para Sabados, Domingos y Feestivo el Periodo correspondiente = P6"
   ]
  },
  {
   "cell_type": "code",
   "execution_count": 10,
   "metadata": {},
   "outputs": [
    {
     "name": "stderr",
     "output_type": "stream",
     "text": [
      "c:\\Users\\Usuario\\AppData\\Local\\Programs\\Python\\Python37\\lib\\site-packages\\ipykernel_launcher.py:3: SettingWithCopyWarning: \n",
      "A value is trying to be set on a copy of a slice from a DataFrame\n",
      "\n",
      "See the caveats in the documentation: https://pandas.pydata.org/pandas-docs/stable/user_guide/indexing.html#returning-a-view-versus-a-copy\n",
      "  This is separate from the ipykernel package so we can avoid doing imports until\n",
      "c:\\Users\\Usuario\\AppData\\Local\\Programs\\Python\\Python37\\lib\\site-packages\\ipykernel_launcher.py:7: SettingWithCopyWarning: \n",
      "A value is trying to be set on a copy of a slice from a DataFrame\n",
      "\n",
      "See the caveats in the documentation: https://pandas.pydata.org/pandas-docs/stable/user_guide/indexing.html#returning-a-view-versus-a-copy\n",
      "  import sys\n"
     ]
    }
   ],
   "source": [
    "for i, celda in enumerate(cups_n1.Dia):\n",
    "    if celda == 'Sabado' or celda == 'Domingo':\n",
    "        cups_n1.Periodo[i] = 'P6'\n",
    "\n",
    "for i, celda in enumerate(cups_n1.Fecha):\n",
    "    if celda  in festivos:\n",
    "        cups_n1.Periodo[i] = 'P6'"
   ]
  },
  {
   "cell_type": "code",
   "execution_count": 11,
   "metadata": {},
   "outputs": [],
   "source": [
    "#Dividir la factura en Meses\n",
    "#Buscar los meses sobre los que tenemos información / Ej: '2020-11$\n",
    "list_months = cups_n1.Fecha.unique()\n",
    "list_uniq_months = [x[:-3] for x in list_months]\n",
    "set_unique_dates = set(list_uniq_months)\n",
    "list_unique_dates = list(set_unique_dates)\n",
    "list_unique_dates.sort()\n",
    "\n",
    "#IMP: list_unique_dates"
   ]
  },
  {
   "cell_type": "markdown",
   "metadata": {},
   "source": [
    "#Formulas\n",
    "\n",
    "Para los puntos de medida tipo 4 y 5 con excesos, se seguirá facturando mediante maxímetro, estableciéndose el doble del Término de Exceso de Potencia, para el excedente de la potencia demandada.\n",
    "\n",
    "Para el resto de los puntos de medida, tipo 1, 2 y 3, se mantiene el procedimiento de facturación mediante curva de carga cuartohoraria, donde el Término de Exceso de Potencia que sea de aplicación tendrá un recargo para desincentivar la contratación de potencias inferiores a las demandadas.\n",
    "\n",
    "- Tipo 1: los que tienen una potencia contratada sea igual o superior a 10 MW, 12 MVA o 5 GWh.\n",
    "- Tipo 2: los que soportan una potencia igual o superior a 450 kW, 450 kVA o 750 MWh.\n",
    "- Tipo 3: los que no se pueden establecer en ninguna de las categorías.\n",
    "- Tipo 4: se instalan en puntos en los que la potencia contratada es igual o inferior a 50 kW o 50 kVA y superior a 15 kW y 15 kVA.\n",
    "- Tipo 5: los clientes han fijado una potencia igual o inferior a 15 kW o a 15 kVA."
   ]
  },
  {
   "cell_type": "code",
   "execution_count": 13,
   "metadata": {},
   "outputs": [],
   "source": [
    "def precio_exceso_potencia(curva, tarifa, tipo_punto):\n",
    "    if np.any(tipo_punto <= 3):\n",
    "        price = tbl_excPot_med123[tbl_excPot_med123['Tarifa'] == tarifa]['Precio_exceso_potencia_(€/kW*día)'].item()\n",
    "    else:\n",
    "        price = tbl_excPot_med4y5[tbl_excPot_med4y5['Tarifa'] == tarifa]['Precio_exceso_potencia_(€/kW*día)'].item()\n",
    "    \n",
    "    curva['exceso_pot'] = [float(price)] * len(curva.index)"
   ]
  },
  {
   "cell_type": "code",
   "execution_count": 14,
   "metadata": {},
   "outputs": [],
   "source": [
    "def precio_coeficiente_Kp(curva, tarifa):\n",
    "    inlist = []\n",
    "    for period in curva['Periodo']:\n",
    "        coef_kp = tbl_coeficiente_Kp[tbl_coeficiente_Kp['Tarifa'] == tarifa][period].item()\n",
    "        inlist.append(coef_kp)\n",
    "    curva['precio_Kp'] = inlist"
   ]
  },
  {
   "cell_type": "code",
   "execution_count": 19,
   "metadata": {},
   "outputs": [],
   "source": [
    "tbl_termPrecPot.columns = ['Tarifa', 'P1', 'P2', 'P3', 'P4', 'P5', 'P6']\n",
    "\n",
    "def facturacion_potencia(curva, tarifa):\n",
    "    inlist = []\n",
    "    for period in curva['Periodo']:\n",
    "        item = tbl_termPrecPot[tbl_termPrecPot['Tarifa'] == tarifa][period].item()\n",
    "        inlist.append(item)\n",
    "    curva['fact_pot'] = inlist"
   ]
  },
  {
   "cell_type": "code",
   "execution_count": 16,
   "metadata": {},
   "outputs": [],
   "source": [
    "potC = [8, 10, 13, 14, 15, 15]\n",
    "\n",
    "def potencia_contratada(value, potC):\n",
    "    if value == 'P1':\n",
    "        return potC[0]\n",
    "    elif value == 'P2':\n",
    "        return potC[1]\n",
    "    elif value == 'P3':\n",
    "        return potC[2]\n",
    "    elif value == 'P4':\n",
    "        return potC[3]\n",
    "    elif value == 'P5':\n",
    "        return potC[4]\n",
    "    elif value == 'P6':\n",
    "        return potC[5]"
   ]
  },
  {
   "cell_type": "markdown",
   "metadata": {},
   "source": [
    "![Formula FEP=facturación de los excesos de potencia ](pngs/formula3.png)"
   ]
  },
  {
   "cell_type": "markdown",
   "metadata": {},
   "source": [
    "- Pdj = Potencia demandada en cada uno de los cuartos de hora j del periodo p, en el que se ha sobrepasado Pcp.\n",
    "\n",
    "- Pcp = Potencia contratada en el periodo p considerado.\n",
    "\n",
    "- tep = Termino_exceso_potencia (**). Los precios del término del exceso de potencia (€/kW) de aplicación hasta el 31 de diciembre\n",
    "      de 2022, a los consumidores a los que les resulte de aplicación el método de facturación establecido en el \n",
    "      artículo 9.4.b).2 de la Circular 3/2020 (puntos de suministro con tipo medida 1, 2 y 3).\n",
    "\n",
    "- Kp = Es un parámetro que toma valores distintos en función del peaje al que se encuentre acogido el cliente y \n",
    "     del período sobre el que se aplica. Será calculado y publicado anualmente por la CNMC. Nunca es un cálculo \n",
    "     que se realice por cliente.\n"
   ]
  },
  {
   "cell_type": "markdown",
   "metadata": {},
   "source": [
    "1ª Opción)\n",
    "\n",
    "Tenemos que realizar el cálculo distinguinedo:\n",
    "- Mes a Facturar\n",
    "- Periodo"
   ]
  },
  {
   "cell_type": "code",
   "execution_count": null,
   "metadata": {},
   "outputs": [],
   "source": [
    "precio_exceso_potencia(cups_n1, '6_3TD', 1)\n",
    "precio_coeficiente_Kp(cups_n1, '6_3TD')\n",
    "facturacion_potencia(cups_n1, '6_3TD')"
   ]
  },
  {
   "cell_type": "code",
   "execution_count": null,
   "metadata": {},
   "outputs": [],
   "source": [
    "cups_n1.head(2)"
   ]
  },
  {
   "cell_type": "markdown",
   "metadata": {},
   "source": [
    "Esto tiene que estar metido dentro de la optimización!!!!"
   ]
  },
  {
   "cell_type": "code",
   "execution_count": null,
   "metadata": {},
   "outputs": [],
   "source": [
    "cups_n1['pot_Contratada'] = cups_n1.apply(lambda x: potencia_contratada(x['Periodo'], potC), axis=1)"
   ]
  },
  {
   "cell_type": "code",
   "execution_count": null,
   "metadata": {},
   "outputs": [],
   "source": [
    "'''para el mes XX/202X\n",
    "     durante los periodos: P1,P2,P3,P4,P5,P6\n",
    "     SUM(). kp(tarifa, periodo) * tep() * sqrt(SUM(). Diff(pot - potC)**2'''\n",
    "\n",
    "\n",
    "new_data = pd.DataFrame(columns=['Month','P1','P2','P3','P4','P5','P6', 'Total_amount'])\n",
    "\n",
    "for date in list_unique_dates:\n",
    "    monthly_payment = [date]\n",
    "    mask_1 = cups_n1[\"Fecha\"].str.startswith(date)\n",
    "    for periodo in periodos:\n",
    "        mask_2 = cups_n1['Periodo'] == periodo\n",
    "        if cups_n1[(mask_1) & (mask_2)].empty == True:\n",
    "            monthly_payment.append(0)\n",
    "        else: \n",
    "            #1\n",
    "            piece = cups_n1[(mask_1) & (mask_2)].ActivaEntrante - cups_n1[(mask_1) & (mask_2)].pot_Contratada\n",
    "            #2\n",
    "            piece.clip(lower = 0, inplace=True)\n",
    "            #3\n",
    "            piece.apply(lambda x: x**2)\n",
    "            #4\n",
    "            precio_coeficiente_Kp = cups_n1[(mask_1) & (mask_2)].precio_Kp.unique().item()\n",
    "            tep = cups_n1[(mask_1) & (mask_2)].exceso_pot.unique().item()\n",
    "            #5\n",
    "            fep = precio_coeficiente_Kp * tep * math.sqrt(piece.sum())\n",
    "            #6\n",
    "            monthly_payment.append(round(fep, 3))\n",
    "    #7    \n",
    "    total_amount = sum(filter(lambda i: isinstance(i, (int, float)), monthly_payment))   \n",
    "    #8\n",
    "    monthly_payment.append(round(total_amount, 3))\n",
    "    #print(monthly_payment)\n",
    "    new_data.loc[len(new_data)] = monthly_payment\n",
    "\n",
    "#Print \n",
    "print(tabulate(new_data,  headers=\"keys\", showindex=True, tablefmt='fancy_grid'))"
   ]
  },
  {
   "cell_type": "markdown",
   "metadata": {},
   "source": [
    "2ª Opción)"
   ]
  },
  {
   "cell_type": "code",
   "execution_count": null,
   "metadata": {},
   "outputs": [],
   "source": [
    "potC = [8, 10, 13, 14, 15, 15]\n",
    "tarifa = '6_3TD'\n",
    "tipo_punto = 3\n",
    "\n",
    "precio_fijo_potencia = facturacion_potencia(potC, tarifa)\n",
    "tep = precio_exceso_potencia(tarifa, tipo_punto)\n",
    "periodos = ['P1', 'P2', 'P3', 'P4', 'P5', 'P6']\n",
    "mesuario = {}\n",
    "\n",
    "for date in list_unique_dates:\n",
    "    list_mes = []\n",
    "\n",
    "    for period in periodos:\n",
    "        new_df = cups_n1[(cups_n1[\"Fecha\"].str.startswith(date)) & (cups_n1['periodo'] == period)]\n",
    "        new_df.reset_index(drop=True, inplace=True)\n",
    "        list_exceso = []\n",
    "\n",
    "        for i, celda in enumerate(new_df.ActivaEntrante):\n",
    "\n",
    "            num_PX = int(period[1:])\n",
    "            pot_contratada = potC[(num_PX-1)]\n",
    "\n",
    "            if celda > pot_contratada:\n",
    "                result_123 = (celda - pot_contratada) ** 2\n",
    "            elif celda < pot_contratada or celda == pot_contratada:\n",
    "                result_123 = 0\n",
    "            \n",
    "            #list_SinExceso.append(result_123)\n",
    "            list_exceso.append(result_123)\n",
    "\n",
    "        sumatorio_1 = sum(list_exceso)\n",
    "        #1Formula\n",
    "        fep = precio_coeficiente_Kp(tarifa, period) * tep * math.sqrt(sumatorio_1)\n",
    "        list_mes.append(fep)\n",
    "\n",
    "    precio_mes = round(int(sum(list_mes)), 2)\n",
    "    mesuario[date] = precio_mes, precio_fijo_potencia, precio_mes + precio_fijo_potencia"
   ]
  },
  {
   "cell_type": "code",
   "execution_count": null,
   "metadata": {},
   "outputs": [],
   "source": [
    "df_precio_mes_or = pd.DataFrame.from_dict(mesuario)\n",
    "df_precio_mes_or.index = ['Exceso Potencia\\n(€/mes)', 'Potencia Fija\\n(€/mes)', 'Total\\n(€/mes)']\n",
    "#Print \n",
    "print(tabulate(df_precio_mes_or,  headers=\"keys\", showindex=True, tablefmt='fancy_grid'))"
   ]
  },
  {
   "cell_type": "code",
   "execution_count": null,
   "metadata": {},
   "outputs": [],
   "source": [
    "#Formulas\n",
    "\n",
    "#Datos del Problema\n",
    "potC = [8, 10, 13, 14, 15, 15]\n",
    "tarifa = '6_3TD'\n",
    "tipo_punto = 3\n",
    "\n",
    "def facturacion_EP(potC, tarifa, tipo_punto):\n",
    "\n",
    "    termino_exceso_potencia = precio_exceso_potencia(tarifa, tipo_punto)\n",
    "    periodos = ['P1', 'P2', 'P3', 'P4', 'P5', 'P6']\n",
    "    mesuario = {}\n",
    "\n",
    "    if tipo_punto == 1 or 2 or 3:\n",
    "\n",
    "        df_exceso_euro_mes = pd.DataFrame()\n",
    "\n",
    "        for date in list_unique_dates:\n",
    "            new_df = cups_n1[cups_n1[\"Fecha\"].str.startswith(date)]\n",
    "            new_df.reset_index(drop=True, inplace=True)\n",
    "            list_exceso = []\n",
    "            list_SinExceso = []\n",
    "\n",
    "            for i, Pdj in enumerate(new_df.ActivaEntrante):\n",
    "            \n",
    "                num_PX = int(new_df.periodo[i][1:])\n",
    "                Pcp = potC[(num_PX-1)]\n",
    "\n",
    "                if Pdj > Pcp:\n",
    "                    result_4y5 = 2 * (Pdj - Pcp) * termino_exceso_potencia\n",
    "                elif Pdj < Pcp or Pdj == Pcp:\n",
    "                    result_4y5 = 0\n",
    "\n",
    "                list_exceso.append(result_4y5)\n",
    "\n",
    "            df_exceso_euro_mes[date] = pd.Series(list_exceso)\n",
    "\n",
    "        df_exceso_euro_mes = df_exceso_euro_mes.fillna(0)\n",
    "        precio_mes = round(df_exceso_euro_mes.sum(axis='index'), 2)\n",
    "\n",
    "        return precio_mes\n",
    "\n",
    "    elif tipo_punto == 4 or 5:\n",
    "\n",
    "        for date in list_unique_dates:\n",
    "            list_mes = []\n",
    "\n",
    "            for period in periodos:\n",
    "                new_df = cups_n1[(cups_n1[\"Fecha\"].str.startswith(date)) & (cups_n1['periodo'] == period)]\n",
    "                new_df.reset_index(drop=True, inplace=True)\n",
    "                list_exceso = []\n",
    "\n",
    "                for i, Pdj in enumerate(new_df.ActivaEntrante):\n",
    "                \n",
    "                    num_PX = int(period[1:])\n",
    "                    Pcp = potC[(num_PX-1)]\n",
    "\n",
    "                    if Pdj > Pcp:\n",
    "                        result_123 = (Pdj - Pcp) ** 2\n",
    "                    elif Pdj < Pcp or Pdj == Pcp:\n",
    "                        result_123 = 0\n",
    "\n",
    "                    #list_SinExceso.append(result_123)\n",
    "                    list_exceso.append(result_123)\n",
    "\n",
    "                sumatorio_1 = sum(list_exceso)\n",
    "                #1Formula\n",
    "                fep = precio_coeficiente_Kp(tarifa, period) * termino_exceso_potencia * math.sqrt(sumatorio_1)\n",
    "                list_mes.append(fep)\n",
    "\n",
    "            mesuario[date] = round(int(sum(list_mes)), 2)\n",
    "            \n",
    "        return mesuario\n"
   ]
  },
  {
   "cell_type": "markdown",
   "metadata": {},
   "source": [
    "# Función Objetivo (Spicy.Minimize)"
   ]
  },
  {
   "cell_type": "code",
   "execution_count": null,
   "metadata": {},
   "outputs": [],
   "source": [
    "from scipy.optimize import minimize, rosen, rosen_der"
   ]
  },
  {
   "cell_type": "code",
   "execution_count": null,
   "metadata": {},
   "outputs": [],
   "source": [
    "#Valores Iniciales\n",
    "x0 = [2, 2, 3, 4, 4, 5]\n",
    "tarifa = '6_3TD'\n",
    "tipo_punto = 4\n",
    "\n",
    "#sum_f0\n",
    "precio_fijo_potencia = facturacion_potencia(tarifa, x0)\n",
    "precio_exceso_potencia = facturacion_EP(tarifa, tipo_punto, x0)\n",
    "precio_total = []\n",
    "\n",
    "for i, exceso_potencia in enumerate(precio_exceso_potencia):\n",
    "    price = exceso_potencia + precio_fijo_potencia\n",
    "    precio_total.append(price)\n",
    "\n",
    "sum_f0 =  sum(precio_total)"
   ]
  },
  {
   "cell_type": "code",
   "execution_count": null,
   "metadata": {},
   "outputs": [],
   "source": [
    "sum_f0"
   ]
  },
  {
   "cell_type": "code",
   "execution_count": null,
   "metadata": {},
   "outputs": [],
   "source": [
    "#Initialize Model   //{ #1) m = GEKKO() }\n",
    "#2)\n",
    "def objective(x):\n",
    "    #x1 = x[0]\n",
    "    #x2 = x[1]\n",
    "    #x3 = x[2]\n",
    "    #x4 = x[3]\n",
    "    #x5 = x[4]\n",
    "    #x6 = x[5]\n",
    "\n",
    "    precio_fijo_potencia = facturacion_potencia(tarifa, x)\n",
    "    precio_exceso_potencia = facturacion_EP(tarifa, tipo_punto, x)\n",
    "    precio_total = []\n",
    "\n",
    "    for i, exceso_potencia in enumerate(precio_exceso_potencia):\n",
    "        price = exceso_potencia + precio_fijo_potencia\n",
    "        precio_total.append(price)\n",
    "\n",
    "    return sum(precio_total)"
   ]
  },
  {
   "cell_type": "code",
   "execution_count": null,
   "metadata": {},
   "outputs": [],
   "source": [
    "'''RESTRICCIONES:\n",
    "Diferenciamos entre tipo ecuación y tipo inecuación. Tendremos un total de 4 restricciones que corresponden a la obligatoriedad de que la combinación \n",
    "de potencias sea en orden ascendente o igual, es decir, potencias de periodos inferiores no pueden ser mayores a potencias de periodos superiores, como mínimo iguales.\n",
    "La restricción 5 viene del conocimiento en mercado, ya que se obliga a que la potencia del último periodo sea igual a la que se tenía contratada porque este cambio de potencia \n",
    "suele acarrear costes importantes y el ratio beneficio de optimización/coste modificación suele ser muy pequeño.\n",
    "\n",
    "                                                    def constraint5_ineq(x): \n",
    "                                                        return x[5] - x0[5] \n",
    "                                                    con4_ineq = {'type': 'ineq', 'fun': constraint4_ineq} \n",
    "\n",
    "Finalmente, las “dos” restricciones 6 sirven para obligar a que la función objetivo tiene que mejorar el coste total inicial, el cual usa de partida.\n",
    "                '''\n",
    "                \n",
    "def constraint1_ineq(x): \n",
    "    return x[1] - x[0] \n",
    "con1_ineq = {'type': 'ineq', 'fun': constraint1_ineq}\n",
    "\n",
    "def constraint2_ineq(x): \n",
    "    return x[2] - x[1] \n",
    "con2_ineq = {'type': 'ineq', 'fun': constraint2_ineq}\n",
    "\n",
    "def constraint3_ineq(x): \n",
    "    return x[3] - x[2] \n",
    "con3_ineq = {'type': 'ineq', 'fun': constraint3_ineq} \n",
    "\n",
    "def constraint4_ineq(x): \n",
    "    return x[4] - x[3] \n",
    "con4_ineq = {'type': 'ineq', 'fun': constraint4_ineq}\n",
    "\n",
    "def constraint5_ineq(x): \n",
    "    return x[5] - x[4] \n",
    "con5_ineq = {'type': 'ineq', 'fun': constraint5_ineq}\n",
    "\n",
    "def constraint6_ineq(x): \n",
    "    return sum_f0 - objective(x) \n",
    "con6_ineq = {'type': 'ineq', 'fun': constraint6_ineq}"
   ]
  },
  {
   "cell_type": "code",
   "execution_count": null,
   "metadata": {},
   "outputs": [],
   "source": [
    "# LIMITES \n",
    "b = (0.0, None) \n",
    "bnds = (b, b, b, b, b, b)"
   ]
  },
  {
   "cell_type": "code",
   "execution_count": null,
   "metadata": {},
   "outputs": [],
   "source": [
    "#CONSTRAINS\n",
    "cons = [con1_ineq, con2_ineq, con3_ineq, con4_ineq, con5_ineq, con6_ineq]"
   ]
  },
  {
   "cell_type": "code",
   "execution_count": null,
   "metadata": {},
   "outputs": [],
   "source": [
    "#SOLUTION\n",
    "sol = minimize(objective, x0, method='SLSQP', bounds= bnds, constraints= cons, tol=None, callback=None)"
   ]
  },
  {
   "cell_type": "code",
   "execution_count": null,
   "metadata": {},
   "outputs": [],
   "source": [
    "print(sol)"
   ]
  },
  {
   "cell_type": "code",
   "execution_count": null,
   "metadata": {},
   "outputs": [],
   "source": [
    "new_df = cups_n1[cups_n1['periodo'] == period]\n",
    "new_df.reset_index(drop=True, inplace=True)\n",
    "x = [2., 2., 3., 4., 4., 5.]\n",
    "j = int(new_df.periodo[57][1:])\n",
    "Pcp = x[(j-1)]\n",
    "print(Pcp)\n",
    "print(j)"
   ]
  },
  {
   "cell_type": "code",
   "execution_count": null,
   "metadata": {},
   "outputs": [],
   "source": [
    "def facturacion_total(potC, tarifa, tipo_punto):\n",
    "#termino_exceso_potencia = precio_exceso_potencia(tarifa, tipo_punto)\n",
    "    periodos = ['P1', 'P2', 'P3', 'P4', 'P5', 'P6']\n",
    "    mesuario = {}\n",
    "    list_exceso = []\n",
    "\n",
    "    if np.any(tipo_punto <= 3):\n",
    "        price = tbl_excPot_med123[tbl_excPot_med123['Tarifa'] == tarifa]['Precio_exceso_potencia_(€/kW*día)'].item()\n",
    "        for i, Pdj in enumerate(cups_n1.ActivaEntrante):\n",
    "            j = int(cups_n1.periodo[i][1:])\n",
    "            Pcp = potC[(j-1)]\n",
    "            if Pdj > Pcp:\n",
    "                fep = 2 * (Pdj - Pcp) * price\n",
    "            elif Pdj < Pcp or Pdj == Pcp:\n",
    "                fep = 0\n",
    "            list_exceso.append(fep)\n",
    "        #Formula\n",
    "        fep = sum(list_exceso)\n",
    "\n",
    "    else:\n",
    "        price = tbl_excPot_med4y5[tbl_excPot_med4y5['Tarifa'] == tarifa]['Precio_exceso_potencia_(€/kW*día)'].item()\n",
    "        for period in periodos:\n",
    "            coeficiente_Kp = precio_coeficiente_Kp(tarifa, period)\n",
    "            new_df = cups_n1[cups_n1['periodo'] == period]\n",
    "            new_df.reset_index(drop=True, inplace=True)\n",
    "            sumatorio_1 = []\n",
    "            for i, Pdj in enumerate(new_df.ActivaEntrante):\n",
    "                j = int(new_df.periodo[i][1:])\n",
    "                Pcp = potC[(j-1)]\n",
    "                if Pdj > Pcp:\n",
    "                    result_123 = (Pdj - Pcp) ** 2\n",
    "                else:\n",
    "                    result_123 = 0\n",
    "                sumatorio_1.append(result_123)\n",
    "            sumatorio_2 = sum(sumatorio_1)\n",
    "            #Formula\n",
    "            fep = coeficiente_Kp * price * math.sqrt(sumatorio_2)\n",
    "            list_exceso.append(fep)\n",
    "        fep = sum(list_exceso)\n",
    "\n",
    "    return round(fep,2)\n",
    "\n",
    "\n",
    "def objective(x):\n",
    "    fep = facturacion_total(x, tarifa, tipo_punto)\n",
    "    return fep\n"
   ]
  },
  {
   "cell_type": "code",
   "execution_count": null,
   "metadata": {},
   "outputs": [],
   "source": [
    "fop = facturacion_total([8, 10, 13, 14, 15, 15], '6_3TD', 1)"
   ]
  },
  {
   "cell_type": "code",
   "execution_count": null,
   "metadata": {},
   "outputs": [],
   "source": [
    "print(x)"
   ]
  },
  {
   "cell_type": "code",
   "execution_count": null,
   "metadata": {},
   "outputs": [],
   "source": [
    "\n",
    "#GEKKO SOLUTION\n",
    "from gekko import GEKKO    \n",
    "m = GEKKO()\n",
    "#help(m)\n",
    "\n",
    "#Define parameters\n",
    "eq = m.Param(value=potC[5])\n",
    "\n",
    "#Variables\n",
    "x1,x2,x3,x4,x5,x6 = [m.Var() for i in range(6)]\n",
    "\n",
    "#Initial values\n",
    "x1.value = potC[0]\n",
    "x2.value = potC[1]\n",
    "x3.value = potC[2]\n",
    "x4.value = potC[3]\n",
    "x5.value = potC[4]\n",
    "x6.value = potC[5]\n",
    "\n",
    "#lower bounds & upper bounds\n",
    "x1.lower = 0\n",
    "x2.lower = 0\n",
    "x3.lower = 0\n",
    "x4.lower = 0\n",
    "x5.lower = 0\n",
    "x6.lower = 0\n",
    "\n",
    "# equation\n",
    "m.Equation(x1 <= x2)\n",
    "m.Equation(x2 <= x3)\n",
    "m.Equation(x3 <= x4)\n",
    "m.Equation(x4 <= x5)\n",
    "m.Equation(x5 <= x6)\n",
    "m.Equation(x6 == eq)\n",
    "\n",
    "# Objective\n",
    "m.Obj(facturacion_EP(tarifa,tipo_punto, [x1, x2, x3, x4, x5, x6]))\n",
    "\n",
    "#Solve Simulation\n",
    "m.options.IMODE = 3\n",
    "m.solve(remote = True)"
   ]
  },
  {
   "cell_type": "code",
   "execution_count": null,
   "metadata": {},
   "outputs": [],
   "source": [
    "#Results\n",
    "print('')\n",
    "print('Results:')\n",
    "print('x1: ' + str(x1.value))\n",
    "print('x2: ' + str(x1.value))\n",
    "print('x3: ' + str(x1.value))\n",
    "print('x4: ' + str(x1.value))\n",
    "print('x5: ' + str(x1.value))"
   ]
  },
  {
   "cell_type": "code",
   "execution_count": null,
   "metadata": {},
   "outputs": [],
   "source": [
    "#Contrains"
   ]
  }
 ],
 "metadata": {
  "kernelspec": {
   "display_name": "Python 3.7.4 64-bit",
   "language": "python",
   "name": "python3"
  },
  "language_info": {
   "codemirror_mode": {
    "name": "ipython",
    "version": 3
   },
   "file_extension": ".py",
   "mimetype": "text/x-python",
   "name": "python",
   "nbconvert_exporter": "python",
   "pygments_lexer": "ipython3",
   "version": "3.7.4"
  },
  "orig_nbformat": 4,
  "vscode": {
   "interpreter": {
    "hash": "98f313b375bd142157bd85247f9cae0a692e725b9cc4cd8be55ca840b47a019b"
   }
  }
 },
 "nbformat": 4,
 "nbformat_minor": 2
}
