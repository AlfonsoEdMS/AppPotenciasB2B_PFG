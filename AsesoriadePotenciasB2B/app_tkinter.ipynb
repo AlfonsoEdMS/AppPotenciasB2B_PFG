{
 "cells": [
  {
   "cell_type": "markdown",
   "metadata": {},
   "source": [
    "#Tkinter (graphical user interface) Application"
   ]
  },
  {
   "cell_type": "code",
   "execution_count": 2,
   "metadata": {},
   "outputs": [],
   "source": [
    "import tkinter as tk\n",
    "from tkinter import TclError, ttk, SOLID\n",
    "from PIL import ImageTk, Image\n",
    "from app_functions import erase_data, calculate_data\n",
    "#from def_functions import frame_Logo, frame_1, frame_2"
   ]
  },
  {
   "cell_type": "code",
   "execution_count": 3,
   "metadata": {},
   "outputs": [
    {
     "name": "stdout",
     "output_type": "stream",
     "text": [
      "Connected to SQLite\n"
     ]
    }
   ],
   "source": [
    "import sqlite3\n",
    "\n",
    "connection = sqlite3.connect('db/first_light.db')\n",
    "db = connection.cursor()\n",
    "\n",
    "print(\"Connected to SQLite\")"
   ]
  },
  {
   "cell_type": "code",
   "execution_count": 4,
   "metadata": {},
   "outputs": [],
   "source": [
    "#1) Preparar Mínimo tres pantallas consecutivas:\n",
    "    # - Primer panatalla: Ampliar (especificar potencias, tipo de punto). \n",
    "    # - Segunda pantalla: Conectarse a la API, pantalla ususario y contraseña.\n",
    "    # - Tercer pantalla: Cuadro resumen, comparativa ahorro tras optimización de potencias. Más botón descarga pdf (tablas, gráficos).\n",
    "\n",
    "container = tk.Tk()\n",
    "container.geometry(\"400x320\")\n",
    "container.title(\"Asesoría de potencias B2B monoCUPS\")\n",
    "container.eval(\"tk::PlaceWindow . center\")\n",
    "\n",
    "container.configure(background='#3d6466')\n",
    "\n",
    "#Frame_Logo\n",
    "frame_logo = tk.Frame(container, width = 400, height= 100, bg = '#3d6466')\n",
    "frame_logo.grid(row = 0, column=0)\n",
    "frame_logo.pack()\n",
    "#1\n",
    "frame_1 = tk.Frame(container, width = 400, height= 100, bg = '#3d6466')\n",
    "frame_1.pack()\n",
    "#2\n",
    "frame_2 = tk.Frame(container, width = 400, height= 100, bg = '#3d6466')\n",
    "frame_2.pack()\n",
    "\n",
    "#logo_frame widget\n",
    "image = Image.open(\"pngs/logo_etsime.png\")\n",
    "image = image.resize((400, 100), Image.ANTIALIAS)\n",
    "logo_img = ImageTk.PhotoImage(image)\n",
    "logo_widget = tk.Label(frame_logo, image = logo_img, bg = '#3d6466')\n",
    "logo_widget.image = logo_img\n",
    "logo_widget.pack()\n",
    "\n",
    "#Label widget Frame_1\n",
    "frame_1.columnconfigure(0, weight=3)\n",
    "frame_1.columnconfigure(1, weight=6)\n",
    "#1\n",
    "label_a = tk.Label(frame_1,  text=\"Cliente: \", width = 17, font = ('Arial', 10), bg = '#3d6466', relief = SOLID\n",
    ").grid(column=0, row=0, sticky=tk.W, pady=1)\n",
    "cliente = ttk.Entry(master = frame_1, width=37)\n",
    "cliente.focus()\n",
    "cliente.grid(column=1, row=0, sticky=tk.E)\n",
    "#2\n",
    "label_b = tk.Label(frame_1, text=\"Fecha Estudio: \", width = 17, font = ('Arial', 10), bg = '#3d6466', relief = SOLID\n",
    ").grid(column=0, row=1, sticky=tk.W, pady=1)\n",
    "fecha_estudio = ttk.Entry(master = frame_1, width=37)\n",
    "fecha_estudio.focus()\n",
    "fecha_estudio.grid(column=1, row=1, sticky=tk.W)\n",
    "#3\n",
    "label_c = tk.Label(master=frame_1, text=\"CUPS: \", width = 17, font = ('Arial', 10), bg = '#3d6466', relief = SOLID\n",
    ").grid(column=0, row=2, sticky=tk.W, pady=1)\n",
    "cups = ttk.Entry(master = frame_1, width=37)\n",
    "cups.focus()\n",
    "cups.grid(column=1, row=2, sticky=tk.W)\n",
    "#4\n",
    "label_d = tk.Label(master=frame_1, text=\"Tarifa: \", width = 17, font = ('Arial', 10), bg = '#3d6466', relief = SOLID\n",
    ").grid(column=0, row=3, sticky=tk.W, pady=1)\n",
    "tarifa = ttk.Entry(master = frame_1, width=37)\n",
    "tarifa.focus()\n",
    "tarifa.grid(column=1, row=3, sticky=tk.W)\n",
    "#5\n",
    "label_e = tk.Label(master=frame_1, text=\"CIF: \", width = 17, font = ('Arial', 10), bg = '#3d6466', relief = SOLID\n",
    ").grid(column=0, row=4, sticky=tk.W, pady=1)\n",
    "cif = ttk.Entry(master = frame_1, width=37)\n",
    "cif.focus()\n",
    "cif.grid(column=1, row=4, sticky=tk.W)\n",
    "\n",
    "def charge_data():\n",
    "    add_cliente = str(cliente.get())\n",
    "    #current_dateTime = DATETIME('now')\n",
    "    add_cups = int(cups.get())\n",
    "    add_tarifa = str(tarifa.get())\n",
    "    add_cif = int(cif.get())\n",
    "\n",
    "\n",
    "    sqlite_insert_with_param = \"\"\"INSERT INTO clientes\n",
    "        (Nombre_Cliente,Cups,Fecha_de_estudio,Tarifa, Cif) \n",
    "        VALUES (?, ?, DATETIME('now'), ?, ?);\"\"\"\n",
    "\n",
    "    data_tuple = (add_cliente, add_cups, add_tarifa, add_cif)\n",
    "    db.execute(sqlite_insert_with_param, data_tuple)\n",
    "    connection.commit()\n",
    "    print('Success_2!')\n",
    "\n",
    "#Adding a Button\n",
    "frame_2.columnconfigure(0 , weight = 1)\n",
    "frame_2.columnconfigure(1 , weight = 1)\n",
    "frame_2.columnconfigure(2 , weight = 1)\n",
    "\n",
    "btn1 = tk.Button(frame_2 , text = \"Borrar Datos\", bg = '#28393a', fg=\"white\", cursor=\"hand2\", activebackground = '#badee2',\n",
    "activeforeground='black', font = ('Arial', 10), height= 4, width = 14, command= lambda: erase_data())\n",
    "btn1.grid(row = 0 , column = 0 , sticky=tk.W + tk.E, padx=2, pady=5)\n",
    "\n",
    "btn2 = tk.Button(frame_2 , text = \"Obtener Datos Suministro\", bg = '#28393a', fg=\"white\", cursor=\"hand2\",\n",
    "activebackground = '#badee2', activeforeground='black', wraplength = 80, font = ('Arial', 10), height= 4, width = 14,\n",
    "command= lambda: charge_data())\n",
    "btn2.grid(row = 0 , column = 1 , sticky=tk.W + tk.E, padx=2, pady=5)\n",
    "\n",
    "btn3 = tk.Button(frame_2 , text = \"Calcular Potencias Optimas\", bg = '#28393a', fg=\"white\", cursor=\"hand2\",\n",
    "activebackground = '#badee2',activeforeground='black', wraplength = 80, font = ('Arial', 10), height= 4, \n",
    "width = 14, command= lambda: calculate_data())\n",
    "btn3.grid(row = 0 , column = 2 , sticky=tk.W + tk.E, padx=2, pady=5)\n",
    "\n",
    "#run app\n",
    "container.mainloop()"
   ]
  },
  {
   "cell_type": "code",
   "execution_count": 4,
   "metadata": {},
   "outputs": [
    {
     "data": {
      "text/plain": [
       "[(1,\n",
       "  'Alfonso Espinosa de los Monteros',\n",
       "  123456,\n",
       "  '2022-09-09 11:21:24',\n",
       "  '3.0TD',\n",
       "  987654,\n",
       "  15,\n",
       "  15,\n",
       "  16,\n",
       "  17,\n",
       "  17,\n",
       "  20),\n",
       " (2,\n",
       "  'Alberto Espinosa de los Monteros',\n",
       "  123457,\n",
       "  '2022-09-09 11:21:35',\n",
       "  '3.0TD',\n",
       "  987654,\n",
       "  15,\n",
       "  15,\n",
       "  18.5,\n",
       "  18.5,\n",
       "  18.5,\n",
       "  20),\n",
       " (5,\n",
       "  'José Pavo Perez',\n",
       "  123567,\n",
       "  '2022-09-26 18:58:34',\n",
       "  '2.0TD',\n",
       "  28220,\n",
       "  None,\n",
       "  None,\n",
       "  None,\n",
       "  None,\n",
       "  None,\n",
       "  None),\n",
       " (6,\n",
       "  'Jaime Gomez Martinez',\n",
       "  987654,\n",
       "  '2022-09-27 11:41:28',\n",
       "  '2.0TD',\n",
       "  28340,\n",
       "  None,\n",
       "  None,\n",
       "  None,\n",
       "  None,\n",
       "  None,\n",
       "  None)]"
      ]
     },
     "execution_count": 4,
     "metadata": {},
     "output_type": "execute_result"
    }
   ],
   "source": [
    "show_all = ('''SELECT * \n",
    "FROM clientes\n",
    "LIMIT 4'''\n",
    ")\n",
    "\n",
    "#borrar = ('''DELETE FROM clientes WHERE Id=4''')\n",
    "#db.execute(borrar)\n",
    "db.execute(show_all).fetchall() "
   ]
  },
  {
   "cell_type": "code",
   "execution_count": 7,
   "metadata": {},
   "outputs": [],
   "source": [
    "#connection.commit()\n",
    "connection.close()"
   ]
  },
  {
   "cell_type": "code",
   "execution_count": null,
   "metadata": {},
   "outputs": [],
   "source": [
    "    #cursor.execute('''\n",
    "    #SELECT COUNT(*) FROM clientes\n",
    "    #WHERE Cups = \"'+ add_cups +'\"\n",
    "    #'''\n"
   ]
  },
  {
   "cell_type": "code",
   "execution_count": null,
   "metadata": {},
   "outputs": [],
   "source": [
    "#2ª OPCIÓN:\n",
    "#container = tk.Tk()\n",
    "#container.geometry(\"400x320\")\n",
    "#container.title(\"Asesoría de potencias B2B monoCUPS\")\n",
    "#container.eval(\"tk::PlaceWindow . center\")\n",
    "\n",
    "#container.configure(background='#3d6466')\n",
    "\n",
    "#from def_functions import frame_Logo, frame_1, frame_2\n",
    "#for frame in (frame_Logo, frame_1, frame_2):\n",
    "#    frame(container=container)\n",
    "\n",
    "#run app\n",
    "#container.mainloop()"
   ]
  }
 ],
 "metadata": {
  "kernelspec": {
   "display_name": "Python 3.7.4 64-bit",
   "language": "python",
   "name": "python3"
  },
  "language_info": {
   "codemirror_mode": {
    "name": "ipython",
    "version": 3
   },
   "file_extension": ".py",
   "mimetype": "text/x-python",
   "name": "python",
   "nbconvert_exporter": "python",
   "pygments_lexer": "ipython3",
   "version": "3.7.4"
  },
  "orig_nbformat": 4,
  "vscode": {
   "interpreter": {
    "hash": "98f313b375bd142157bd85247f9cae0a692e725b9cc4cd8be55ca840b47a019b"
   }
  }
 },
 "nbformat": 4,
 "nbformat_minor": 2
}
